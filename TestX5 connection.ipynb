{
 "cells": [
  {
   "cell_type": "markdown",
   "metadata": {
    "id": "ycRnAWkfxsdB"
   },
   "source": [
    "**Тестовое задание на Аналитика X5**\n",
    "\n",
    "Задание: Классификация отзывов клиентов\n",
    "\n",
    "Выполнил: Попов Кирилл"
   ]
  },
  {
   "cell_type": "markdown",
   "metadata": {
    "id": "MuRMXilIy8kG"
   },
   "source": [
    "# Библиотеки"
   ]
  },
  {
   "cell_type": "code",
   "execution_count": 1,
   "metadata": {
    "colab": {
     "base_uri": "https://localhost:8080/"
    },
    "id": "L1UP616M7_vr",
    "outputId": "5849d04f-4a6e-49c5-b60e-bffea9b17805"
   },
   "outputs": [],
   "source": [
    "import sqlite3\n",
    "import pandas as pd\n",
    "#from google.colab import drive\n",
    "#drive.mount('/content/drive')"
   ]
  },
  {
   "cell_type": "markdown",
   "metadata": {
    "id": "C9qb1vjEy6_3"
   },
   "source": [
    "# Подготовка данных"
   ]
  },
  {
   "cell_type": "markdown",
   "metadata": {
    "id": "owJp4EAsxmKo"
   },
   "source": [
    "Создаю подключение и получаю результат"
   ]
  },
  {
   "cell_type": "code",
   "execution_count": 5,
   "metadata": {
    "id": "k0KrTLXi8EJW"
   },
   "outputs": [],
   "source": [
    "db = sqlite3.connect('/Users/kirill/Downloads/database X5/db_sqlite_testovoe')\n",
    "\n",
    "# Создаю курсор\n",
    "cur = db.cursor()\n",
    "\n",
    "# Проверка вывода\n",
    "query = '''SELECT * FROM dostavka'''\n",
    "cur.execute(query)\n",
    "\n",
    "# Вывожу первые 3 строки\n",
    "cur.fetchmany(3)"
   ]
  },
  {
   "cell_type": "code",
   "execution_count": 6,
   "metadata": {},
   "outputs": [
    {
     "name": "stdout",
     "output_type": "stream",
     "text": [
      "[]\n"
     ]
    }
   ],
   "source": [
    "# Запрос на вывод всех данных\n",
    "cur.execute(query)\n",
    "\n",
    "# Все данные из database\n",
    "results = cur.fetchall()"
   ]
  },
  {
   "cell_type": "markdown",
   "metadata": {
    "id": "gbSwrw3Lyl1q"
   },
   "source": [
    "Создаю пустой df, чтобы дальше загрузить в него данные из database"
   ]
  },
  {
   "cell_type": "code",
   "execution_count": 7,
   "metadata": {
    "id": "dHfAuFEqw9KK"
   },
   "outputs": [],
   "source": [
    "# Создаем пустой df\n",
    "columns = ['Unnamed_0','shop','order_number','date','status','review','feedback','text_1','text_2','other_text']\n",
    "indexs = [0]\n",
    "values = ['0']\n",
    "\n",
    "df = pd.DataFrame(index = indexs, data = [values])"
   ]
  },
  {
   "cell_type": "code",
   "execution_count": 8,
   "metadata": {
    "id": "wMCrWdgNvFJ5"
   },
   "outputs": [
    {
     "data": {
      "text/html": [
       "<div>\n",
       "<style scoped>\n",
       "    .dataframe tbody tr th:only-of-type {\n",
       "        vertical-align: middle;\n",
       "    }\n",
       "\n",
       "    .dataframe tbody tr th {\n",
       "        vertical-align: top;\n",
       "    }\n",
       "\n",
       "    .dataframe thead th {\n",
       "        text-align: right;\n",
       "    }\n",
       "</style>\n",
       "<table border=\"1\" class=\"dataframe\">\n",
       "  <thead>\n",
       "    <tr style=\"text-align: right;\">\n",
       "      <th></th>\n",
       "      <th>Unnamed_0</th>\n",
       "      <th>shop</th>\n",
       "      <th>order_number</th>\n",
       "      <th>date</th>\n",
       "      <th>status</th>\n",
       "      <th>review</th>\n",
       "      <th>feedback</th>\n",
       "      <th>text_1</th>\n",
       "      <th>text_2</th>\n",
       "      <th>other_text</th>\n",
       "    </tr>\n",
       "  </thead>\n",
       "  <tbody>\n",
       "    <tr>\n",
       "      <th>0</th>\n",
       "      <td>0</td>\n",
       "      <td>store_00</td>\n",
       "      <td>42811R65031404</td>\n",
       "      <td>2011-06-19 00:00:56</td>\n",
       "      <td>Не проверен</td>\n",
       "      <td>5.0</td>\n",
       "      <td>NaN</td>\n",
       "      <td>NaN</td>\n",
       "      <td>NaN</td>\n",
       "      <td>NaN</td>\n",
       "    </tr>\n",
       "    <tr>\n",
       "      <th>1</th>\n",
       "      <td>1</td>\n",
       "      <td>store_01</td>\n",
       "      <td>143171885R0421</td>\n",
       "      <td>2011-06-19 00:05:42</td>\n",
       "      <td>Не проверен</td>\n",
       "      <td>5.0</td>\n",
       "      <td>NaN</td>\n",
       "      <td>NaN</td>\n",
       "      <td>NaN</td>\n",
       "      <td>NaN</td>\n",
       "    </tr>\n",
       "    <tr>\n",
       "      <th>2</th>\n",
       "      <td>2</td>\n",
       "      <td>store_02</td>\n",
       "      <td>50488R51918131</td>\n",
       "      <td>2011-06-19 00:08:19</td>\n",
       "      <td>Не проверен</td>\n",
       "      <td>5.0</td>\n",
       "      <td>NaN</td>\n",
       "      <td>NaN</td>\n",
       "      <td>NaN</td>\n",
       "      <td>NaN</td>\n",
       "    </tr>\n",
       "    <tr>\n",
       "      <th>3</th>\n",
       "      <td>3</td>\n",
       "      <td>store_03</td>\n",
       "      <td>4R556131941173</td>\n",
       "      <td>2011-06-19 00:13:57</td>\n",
       "      <td>Не проверен</td>\n",
       "      <td>3.0</td>\n",
       "      <td>долго заказ ждал... хотя доставку оплату повыс...</td>\n",
       "      <td>NaN</td>\n",
       "      <td>NaN</td>\n",
       "      <td>NaN</td>\n",
       "    </tr>\n",
       "    <tr>\n",
       "      <th>4</th>\n",
       "      <td>4</td>\n",
       "      <td>store_04</td>\n",
       "      <td>1117R271442037</td>\n",
       "      <td>2011-06-19 00:27:02</td>\n",
       "      <td>Не проверен</td>\n",
       "      <td>3.0</td>\n",
       "      <td>None</td>\n",
       "      <td>NaN</td>\n",
       "      <td>NaN</td>\n",
       "      <td>Без описания</td>\n",
       "    </tr>\n",
       "  </tbody>\n",
       "</table>\n",
       "</div>"
      ],
      "text/plain": [
       "  Unnamed_0      shop    order_number                 date       status  \\\n",
       "0         0  store_00  42811R65031404  2011-06-19 00:00:56  Не проверен   \n",
       "1         1  store_01  143171885R0421  2011-06-19 00:05:42  Не проверен   \n",
       "2         2  store_02  50488R51918131  2011-06-19 00:08:19  Не проверен   \n",
       "3         3  store_03  4R556131941173  2011-06-19 00:13:57  Не проверен   \n",
       "4         4  store_04  1117R271442037  2011-06-19 00:27:02  Не проверен   \n",
       "\n",
       "   review                                           feedback text_1  text_2  \\\n",
       "0     5.0                                                NaN    NaN     NaN   \n",
       "1     5.0                                                NaN    NaN     NaN   \n",
       "2     5.0                                                NaN    NaN     NaN   \n",
       "3     3.0  долго заказ ждал... хотя доставку оплату повыс...    NaN     NaN   \n",
       "4     3.0                                               None    NaN     NaN   \n",
       "\n",
       "     other_text  \n",
       "0           NaN  \n",
       "1           NaN  \n",
       "2           NaN  \n",
       "3           NaN  \n",
       "4  Без описания  "
      ]
     },
     "metadata": {},
     "output_type": "display_data"
    }
   ],
   "source": [
    "# Заполняем данные\n",
    "for i in range(len(results)):\n",
    "  for n in range(len(results[i])):\n",
    "    value = results[i][n]\n",
    "    df.loc[i,[n]] = value\n",
    "\n",
    "df.columns = columns\n",
    "display(df.head())"
   ]
  },
  {
   "cell_type": "code",
   "execution_count": 9,
   "metadata": {
    "colab": {
     "base_uri": "https://localhost:8080/",
     "height": 242
    },
    "id": "JFFqMtW2plN6",
    "outputId": "7ff4ffa5-a047-431a-ef17-31d5c5a5b080"
   },
   "outputs": [],
   "source": [
    "# Выгружаю данные в csv\n",
    "df.to_csv('database_df.csv', index=False)"
   ]
  },
  {
   "cell_type": "code",
   "execution_count": null,
   "metadata": {},
   "outputs": [],
   "source": []
  }
 ],
 "metadata": {
  "colab": {
   "provenance": []
  },
  "kernelspec": {
   "display_name": "Python 3 (ipykernel)",
   "language": "python",
   "name": "python3"
  },
  "language_info": {
   "codemirror_mode": {
    "name": "ipython",
    "version": 3
   },
   "file_extension": ".py",
   "mimetype": "text/x-python",
   "name": "python",
   "nbconvert_exporter": "python",
   "pygments_lexer": "ipython3",
   "version": "3.11.4"
  }
 },
 "nbformat": 4,
 "nbformat_minor": 1
}
